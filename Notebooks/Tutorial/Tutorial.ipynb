{
 "cells": [
  {
   "cell_type": "markdown",
   "metadata": {},
   "source": [
    "# Amazon Simple Storage Service (S3) Tutorial"
   ]
  },
  {
   "cell_type": "markdown",
   "metadata": {},
   "source": [
    "In this tutorial, we describe the paths supported by the public S3 bucket. We also make an example query to the container to get asteroid data for (705) Erminia. With this data, we show how to make a light curve."
   ]
  },
  {
   "cell_type": "markdown",
   "metadata": {},
   "source": [
    "## Import relevant libraries"
   ]
  },
  {
   "cell_type": "markdown",
   "metadata": {},
   "source": [
    "To begin, we want to import the necessary libraries for the bucket to be used correctly. Note that users will have to install additional dependencies as part of the `astropy` package. Specifically, users will need `fsspec` and `s3fs` to be able to correctly access the S3 bucket via `astropy` commands (see [Extracting via `astroquery`](#extracting-via-astroquery)). Users can look at the __[installing `astropy`](https://docs.astropy.org/en/stable/install.html#installing-astropy)__ directions for more details. Alternatively, users can import `fsspec` and `pip install s3fs` (see [Extracting via direct installation of `fsspec` and `s3fs`](#extracting-via-direct-installation-of-fsspec-and-s3fs))."
   ]
  },
  {
   "cell_type": "code",
   "execution_count": 18,
   "metadata": {},
   "outputs": [],
   "source": [
    "# import libraries\n",
    "import fsspec # optional depending on the astropy dependencies installed\n",
    "import matplotlib.pyplot as plt\n",
    "import seaborn as sns\n",
    "\n",
    "from astropy.visualization import astropy_mpl_style\n",
    "from astropy.io import fits\n",
    "\n",
    "plt.style.use(astropy_mpl_style)\n",
    "sns.set_theme(style='ticks')\n",
    "%matplotlib inline"
   ]
  },
  {
   "cell_type": "markdown",
   "metadata": {},
   "source": [
    "## Request and extract data"
   ]
  },
  {
   "cell_type": "markdown",
   "metadata": {},
   "source": [
    "Next, we want to make a call to the bucket. This call will always be in the form of a path containing relevant parameters. In this example, we are making a call to the S3 path, which will return a `.FITS` file containing data to generate a light curve. The data that are returned include the flux (mJy), flux error (mJy), time of observation (unix), and weight (unitless). The general format for this query is `s3://cornell-acteroids/asteroid_lc_array_frequency.fits`. The parameters to change are `asteroid`, `array`, and `frequency`. \n",
    "\n",
    "By loading in this file, we can extract data by calling the relevant column names from the `.FITS` file header. Here, we collect the time of observation, flux from each measurement, and flux error. In this example, we are collecting data for the asteroid (705) Erminia on ACT array pa6 at 90 GHz. \n",
    "\n",
    "As part of the data products, we provide the asteroid weighting calculation for each asteroid. This weighting is based on the Rayleigh-Jeans approximation for the __[Standard Thermal Model](https://www.sciencedirect.com/science/article/pii/0019103586900217?via%3Dihub)__ and considers the earth-asteroid distance as well as the earth-asteroid-sun angle. "
   ]
  },
  {
   "cell_type": "markdown",
   "metadata": {},
   "source": [
    "The only parameters users need to change are `asteroid`, `array`, and `frequency`. For this example, we collect data for (705) Erminia on ACT array pa6 at a frequency of 90 GHz."
   ]
  },
  {
   "cell_type": "code",
   "execution_count": 19,
   "metadata": {},
   "outputs": [],
   "source": [
    "# create request to ACTeroids container\n",
    "asteroid = 'Erminia'\n",
    "array = 'pa6'\n",
    "frequency = '090'"
   ]
  },
  {
   "cell_type": "markdown",
   "metadata": {},
   "source": [
    "Once the user selects these three parameters, obtaining the data is a matter of creating the correct S3 path and extracting the relevant data, as one would for a `.FITS` file. The code below does not need to be modified in any way."
   ]
  },
  {
   "cell_type": "code",
   "execution_count": 20,
   "metadata": {},
   "outputs": [],
   "source": [
    "name = '{}_lc_{}_{}'.format(asteroid, array, frequency) # this is the final format of the string\n",
    "\n",
    "s3_path = 's3://cornell-acteroids/' + name + '.fits'"
   ]
  },
  {
   "cell_type": "markdown",
   "metadata": {},
   "source": [
    "Extracting data is slight different depending on the installation procedure. See [Extracting via `astroquery`](#extracting-via-astroquery) when the `fsspec` and `s3fs` libraries are installed along with astropy. Otherwise, see [Extracting via direct installation of `fsspec` and `s3fs`](#extracting-via-direct-installation-of-fsspec-and-s3fs) for those doing direct installation of these two packages."
   ]
  },
  {
   "cell_type": "markdown",
   "metadata": {},
   "source": [
    "### Extracting via `astroquery`"
   ]
  },
  {
   "cell_type": "markdown",
   "metadata": {},
   "source": [
    "Below lies code for extracting asteroid data after installing the `fsspec` and `s3fs` libraries via `astroquery`."
   ]
  },
  {
   "cell_type": "code",
   "execution_count": 21,
   "metadata": {},
   "outputs": [],
   "source": [
    "with fits.open(s3_path, fsspec_kwargs={\"anon\": True}) as hdul:  \n",
    "    data = hdul[1].data"
   ]
  },
  {
   "cell_type": "markdown",
   "metadata": {},
   "source": [
    "### Extracting via direct installation of `fsspec` and `s3fs`"
   ]
  },
  {
   "cell_type": "markdown",
   "metadata": {},
   "source": [
    "If users decide instead to `import fsspec` and `pip install s3fs`, then the following code should be used to open data from AWS."
   ]
  },
  {
   "cell_type": "code",
   "execution_count": 22,
   "metadata": {},
   "outputs": [],
   "source": [
    "with fsspec.open(s3_path, 'rb', anon=True) as fileobj:\n",
    "    with fits.open(fileobj) as hdul:\n",
    "        data = hdul[1].data"
   ]
  },
  {
   "cell_type": "markdown",
   "metadata": {},
   "source": [
    "Once data are collected, data from the columns can be collected as follows."
   ]
  },
  {
   "cell_type": "code",
   "execution_count": 23,
   "metadata": {},
   "outputs": [],
   "source": [
    "# get data from each column\n",
    "times = data['Time']\n",
    "flux = data['Flux']\n",
    "error = data['FluxUncertainty']"
   ]
  },
  {
   "cell_type": "markdown",
   "metadata": {},
   "source": [
    "## Light curves"
   ]
  },
  {
   "cell_type": "markdown",
   "metadata": {},
   "source": [
    "To make light curves, we take the times, flux, and error bars and create a scatter plot. \n",
    "\n",
    "We discourage users from binning data over time, since there will be unwanted correlated errors."
   ]
  },
  {
   "cell_type": "code",
   "execution_count": 24,
   "metadata": {},
   "outputs": [
    {
     "data": {
      "image/png": "[encoded data removed]",
      "text/plain": [
       "<Figure size 432x288 with 1 Axes>"
      ]
     },
     "metadata": {
      "needs_background": "light"
     },
     "output_type": "display_data"
    }
   ],
   "source": [
    "# create and display scatter plot with error bars\n",
    "plt.errorbar(times, flux, yerr=error, fmt='o')\n",
    "plt.tick_params(direction='in')\n",
    "plt.xlabel('Time (Unix)')\n",
    "plt.ylabel('Flux (mJy)')\n",
    "plt.savefig('Erminia_lcurve.pdf')\n",
    "plt.show()"
   ]
  },
  {
   "cell_type": "markdown",
   "metadata": {},
   "source": [
    "## References"
   ]
  },
  {
   "cell_type": "markdown",
   "metadata": {},
   "source": [
    "For more information about this data set, see __[Orlowski-Scherer et al. 2023](https://arxiv.org/pdf/2306.05468)__."
   ]
  }
 ],
 "metadata": {
  "kernelspec": {
   "display_name": "Python 3",
   "language": "python",
   "name": "python3"
  },
  "language_info": {
   "codemirror_mode": {
    "name": "ipython",
    "version": 3
   },
   "file_extension": ".py",
   "mimetype": "text/x-python",
   "name": "python",
   "nbconvert_exporter": "python",
   "pygments_lexer": "ipython3",
   "version": "3.8.5"
  },
  "orig_nbformat": 4
 },
 "nbformat": 4,
 "nbformat_minor": 2
}
